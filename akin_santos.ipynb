{
 "cells": [
  {
   "cell_type": "markdown",
   "metadata": {},
   "source": [
    "<b>Exploraitary Data Analysis</b>"
   ]
  },
  {
   "cell_type": "code",
   "execution_count": null,
   "metadata": {},
   "outputs": [],
   "source": [
    "import pandas as pd\n",
    "import numpy as np"
   ]
  },
  {
   "cell_type": "code",
   "execution_count": null,
   "metadata": {},
   "outputs": [],
   "source": [
    "# Read the dataset\n",
    "avdata = pd.read_csv(\"attrition_availabledata_17.csv\")\n",
    "compt = pd.read_csv(\"attrition_competition_17.csv\")"
   ]
  },
  {
   "cell_type": "code",
   "execution_count": null,
   "metadata": {},
   "outputs": [],
   "source": [
    "print(avdata.shape)\n",
    "print(compt.shape)"
   ]
  },
  {
   "cell_type": "code",
   "execution_count": null,
   "metadata": {},
   "outputs": [],
   "source": [
    "# Define a list for column names\n",
    "colnames_av = list(avdata)\n",
    "colnames_co = list(compt)\n",
    "\n",
    "print(colnames_av)\n",
    "\n",
    "# Print the unique values for each column\n",
    "for col in colnames_av:\n",
    "    print(col, \"          \", set(avdata[col]))\n"
   ]
  },
  {
   "cell_type": "code",
   "execution_count": null,
   "metadata": {},
   "outputs": [],
   "source": [
    "print(len(set(avdata[\"NumCompaniesWorked\"])))\n",
    "print(len(set(avdata[\"PercentSalaryHike\"])))\n",
    "print(len(set(avdata[\"TrainingTimesLastYear\"])))"
   ]
  },
  {
   "cell_type": "markdown",
   "metadata": {},
   "source": [
    "The *availabledata* has 31 columns nd 2940 rows, whereas the *competition* has 30 columns and 1470 rows. All of the columns are the same; however, the *availabledata* has an extra column named *attrition*.\n",
    "\n",
    "When the data is further examined, we can see that the variables are of the following types:\n",
    "\n",
    "| Variable Name                 | Variable Type | Cardinality, if not numerical |\n",
    "|--------------------------|----------|----------|\n",
    "| hrs                      | Numerical     |      |\n",
    "| absences                 | Numerical     |      |\n",
    "| JobInvolvement           | Categorical     | 4     |\n",
    "| PerformanceRating        | Categorical     | 2     |\n",
    "| EnvironmentSatisfaction  | Categorical     | 4     |\n",
    "| JobSatisfaction          | Categorical     | 4     |\n",
    "| WorkLifeBalance          | Categorical     | 4     |\n",
    "| Age                      | Numerical     |      |\n",
    "| BusinessTravel           | Categorical     | 3     |\n",
    "| Department               | Categorical     | 3     |\n",
    "| DistanceFromHome         | Numerical     |      |\n",
    "| Education                | Categorical     | 5     |\n",
    "| EducationField           | Categorical     | 6     |\n",
    "| EmployeeCount            | Constant Column     |  1    |\n",
    "| EmployeeID               | ID Column     |      |\n",
    "| Gender                   | Binary     |    2  |\n",
    "| JobLevel                 | Categorical     | 5     |\n",
    "| JobRole                  | Categorical     | 9     |\n",
    "| MaritalStatus            | Categorical     | 3     |\n",
    "| MonthlyIncome            | Numerical     |      |\n",
    "| NumCompaniesWorked       | Categorical     |  10    |\n",
    "| Over18                   | Constant Column     |    1  |\n",
    "| PercentSalaryHike        | Categorical     |   15   |\n",
    "| StandardHours            | Constant Colum     |     1 |\n",
    "| StockOptionLevel         | Categorical     | 4     |\n",
    "| TotalWorkingYears        | Numerical     |      |\n",
    "| TrainingTimesLastYear    | Categorical     | 7     |\n",
    "| YearsAtCompany           | Numerical     |      |\n",
    "| YearsSinceLastPromotion  | Numerical     |      |\n",
    "| YearsWithCurrManager     | Numerical     |      |\n",
    "| Attrition                | Binary     |  2    |\n",
    "\n",
    "\n"
   ]
  },
  {
   "cell_type": "markdown",
   "metadata": {},
   "source": [
    "We can see that some categorical variables have high cardinality. Namely; *absences* (24), *JobRole* (9), *NumCompaniesWorked* (10), and *PercentSalaryHike* (15).\n",
    "\n",
    "Now let us see if there are any missing values."
   ]
  },
  {
   "cell_type": "code",
   "execution_count": null,
   "metadata": {},
   "outputs": [],
   "source": [
    "missing_av = avdata.isnull().sum()\n",
    "print(missing_av)\n",
    "\n",
    "missing_compt = compt.isnull().sum()\n",
    "print(missing_compt)"
   ]
  },
  {
   "cell_type": "markdown",
   "metadata": {},
   "source": [
    "There are **no missing values** in either of the datasets.\n"
   ]
  },
  {
   "cell_type": "markdown",
   "metadata": {},
   "source": [
    "The target column is a binary variable, making this problem a **classification** problem. Let us check if it is balanced or not."
   ]
  },
  {
   "cell_type": "code",
   "execution_count": null,
   "metadata": {},
   "outputs": [],
   "source": [
    "# Count the values for attrition\n",
    "attrition_counts = avdata['Attrition'].value_counts()\n",
    "print(attrition_counts)\n",
    "\n",
    "# Calculate class proportions\n",
    "class_proportions = attrition_counts / len(avdata)\n",
    "print(class_proportions)"
   ]
  },
  {
   "cell_type": "markdown",
   "metadata": {},
   "source": [
    "We can see that only 16% of the attrition data is *Yes*, making it **imbalanced**."
   ]
  },
  {
   "cell_type": "code",
   "execution_count": null,
   "metadata": {},
   "outputs": [],
   "source": [
    "numerical_vars = [\n",
    "    \"hrs\",\n",
    "    \"absences\",\n",
    "    \"Age\",\n",
    "    \"DistanceFromHome\",\n",
    "    \"MonthlyIncome\",\n",
    "    \"TotalWorkingYears\",\n",
    "    \"YearsAtCompany\",\n",
    "    \"YearsSinceLastPromotion\",\n",
    "    \"YearsWithCurrManager\"\n",
    "]\n",
    "\n",
    "binary_vars = [\n",
    "    \"Gender\",\n",
    "    \"Attrition\"\n",
    "]\n",
    "\n",
    "categorical_vars = [\n",
    "    \"JobInvolvement\",\n",
    "    \"PerformanceRating\",\n",
    "    \"EnvironmentSatisfaction\",\n",
    "    \"JobSatisfaction\",\n",
    "    \"WorkLifeBalance\",\n",
    "    \"BusinessTravel\",\n",
    "    \"Department\",\n",
    "    \"Education\",\n",
    "    \"EducationField\",\n",
    "    \"JobLevel\",\n",
    "    \"JobRole\",\n",
    "    \"MaritalStatus\",\n",
    "    \"NumCompaniesWorked\",\n",
    "    \"PercentSalaryHike\",\n",
    "    \"StockOptionLevel\",\n",
    "    \"TrainingTimesLastYear\"\n",
    "]\n",
    "\n",
    "# Loop through categorical variables to calculate proportions\n",
    "for col in categorical_vars:\n",
    "    print(f\"Proportions for {col}:\")\n",
    "    proportions = avdata[col].value_counts(normalize=True)  # Calculate proportions\n",
    "    print(proportions)\n",
    "    print(\"-\" * 50)  # Separator for readability\n"
   ]
  },
  {
   "cell_type": "code",
   "execution_count": null,
   "metadata": {},
   "outputs": [],
   "source": [
    "import matplotlib.pyplot as plt\n",
    "\n",
    "# Loop through categorical variables to create pie charts\n",
    "for col in categorical_vars:\n",
    "    # Get the value counts and their proportions\n",
    "    proportions = avdata[col].value_counts(normalize=True)\n",
    "    \n",
    "    # Plotting the pie chart\n",
    "    plt.figure(figsize=(6, 6))\n",
    "    proportions.plot.pie(autopct='%1.1f%%', startangle=90, cmap='Set3')\n",
    "    plt.title(f\"Proportions for {col}\")\n",
    "    plt.ylabel('')  # Hide the y-axis label\n",
    "    plt.show()\n"
   ]
  }
 ],
 "metadata": {
  "kernelspec": {
   "display_name": ".venv",
   "language": "python",
   "name": "python3"
  },
  "language_info": {
   "codemirror_mode": {
    "name": "ipython",
    "version": 3
   },
   "file_extension": ".py",
   "mimetype": "text/x-python",
   "name": "python",
   "nbconvert_exporter": "python",
   "pygments_lexer": "ipython3",
   "version": "3.12.0"
  }
 },
 "nbformat": 4,
 "nbformat_minor": 2
}
